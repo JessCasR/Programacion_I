{
 "cells": [
  {
   "cell_type": "markdown",
   "id": "33b2818e-e573-43eb-a3eb-d7dfbabfb446",
   "metadata": {},
   "source": [
    "### Movies"
   ]
  },
  {
   "cell_type": "markdown",
   "id": "b5ecad9f-cdbd-4d1a-9dc9-631349e1a757",
   "metadata": {},
   "source": [
    "#### Se creo una base de datos con una lista de peliculas, en la interfaz gráfica podremos seleccionar un género de pelicula y el país de producción y nos mostrará la lista de peliculas correspondientes a los filtros seleccionados."
   ]
  },
  {
   "cell_type": "code",
   "execution_count": 1,
   "id": "d7804c10-1a95-43ea-a635-5c55aa0c2104",
   "metadata": {},
   "outputs": [],
   "source": [
    "import tkinter as tk\n",
    "from tkinter import ttk\n",
    "import pyodbc"
   ]
  },
  {
   "cell_type": "code",
   "execution_count": 2,
   "id": "a533a771-17d0-4bbc-a234-0455b7653ea8",
   "metadata": {},
   "outputs": [],
   "source": [
    "# Información de la base de datos\n",
    "\n",
    "server = 'JESS\\SQLEXPRESS'\n",
    "bd = 'Movies'"
   ]
  },
  {
   "cell_type": "code",
   "execution_count": 3,
   "id": "664aab9a-7a17-4126-890f-e44e6996cc8f",
   "metadata": {},
   "outputs": [],
   "source": [
    "# Función para obtener los géneros de las peliculas\n",
    "\n",
    "def opciones_genre():\n",
    "    try:\n",
    "        conn = pyodbc.connect(driver='{SQL server}', host = server, database = bd)\n",
    "        cursor = conn.cursor()\n",
    "\n",
    "        # Se obtienen los generos unicos de la tabla \"Movies\"\n",
    "        cursor.execute(\"SELECT DISTINCT genre FROM Movies\")\n",
    "        generos = [row[0].strip() for row in cursor.fetchall()]\n",
    "\n",
    "        conn.close()\n",
    "        return generos\n",
    "        \n",
    "    except Exception as e:\n",
    "        print(f\"Error al obtener géneros: {e}\")\n",
    "        return []"
   ]
  },
  {
   "cell_type": "code",
   "execution_count": 4,
   "id": "9ff61700-71a6-4fcb-abdb-063ade98387e",
   "metadata": {},
   "outputs": [],
   "source": [
    "# Función para obtener los países\n",
    "\n",
    "def obtener_country(genre):\n",
    "    try:\n",
    "        conn = pyodbc.connect(driver='{SQL server}', host = server, database = bd)\n",
    "        cursor = conn.cursor()\n",
    "\n",
    "        # Se obtienen los paises unicos de la tabla \"Movies\" dependiendo del filtro \"genero\".\n",
    "        query = \"SELECT DISTINCT country FROM Movies WHERE genre = ?\"\n",
    "        cursor.execute(query, (genre,))\n",
    "        paises = [row[0].strip() for row in cursor.fetchall()]\n",
    "\n",
    "        conn.close()\n",
    "        return paises\n",
    "        \n",
    "    except Exception as e:\n",
    "        print(f\"Error al obtener países: {e}\")\n",
    "        return []"
   ]
  },
  {
   "cell_type": "code",
   "execution_count": 5,
   "id": "136ea371-6814-4dbb-903a-20d803a3d384",
   "metadata": {},
   "outputs": [],
   "source": [
    "# Función para obtener las películas filtradas por género y país\n",
    "\n",
    "def obtener_peliculas(genre, country):\n",
    "    try:\n",
    "        conn = pyodbc.connect(driver='{SQL server}', host = server, database = bd)\n",
    "        cursor = conn.cursor()\n",
    "\n",
    "        # Consulta SQL para obtener las películas filtradas por género y país\n",
    "        query = \"SELECT * FROM Movies WHERE genre = ? AND country = ?\"\n",
    "        cursor.execute(query, (genre, country))\n",
    "        peliculas = cursor.fetchall()\n",
    "\n",
    "        conn.close()\n",
    "        return peliculas\n",
    "        \n",
    "    except Exception as e:\n",
    "        print(f\"Error al obtener películas: {e}\")\n",
    "        return []"
   ]
  },
  {
   "cell_type": "code",
   "execution_count": 6,
   "id": "a13d987c-2b2f-4be6-b444-973dca705b05",
   "metadata": {},
   "outputs": [],
   "source": [
    "# Función para mostrar las películas filtradas\n",
    "\n",
    "def mostrar_peliculas():\n",
    "    # Obtener los valores de los filtros\n",
    "    genre = gen_combobox.get()\n",
    "    country = pais_combobox.get()\n",
    "\n",
    "    # Obtener las películas filtradas\n",
    "    peliculas = obtener_peliculas(genre, country)\n",
    "\n",
    "    # Limpiar la lista de películas mostradas\n",
    "    for item in lista_peliculas.get_children():\n",
    "        lista_peliculas.delete(item)\n",
    "\n",
    "    # Mostrar las películas\n",
    "    for pelicula in peliculas:\n",
    "        lista_peliculas.insert(\"\", \"end\", values=(\n",
    "            pelicula[0].strip(), \n",
    "            pelicula[1].strip(), \n",
    "            str(pelicula[2]).strip(),\n",
    "            pelicula[3].strip(),\n",
    "            pelicula[4].strip(),\n",
    "            pelicula[5].strip()\n",
    "        ))"
   ]
  },
  {
   "cell_type": "code",
   "execution_count": 7,
   "id": "3f432559-8a4c-49e3-8fab-e5f24691ab25",
   "metadata": {},
   "outputs": [],
   "source": [
    "# Función para actualizar el filtro de paises dependiendo de lo que se seleccione en el primer filtro\n",
    "\n",
    "def actualizar_paises(event):\n",
    "    genre = gen_combobox.get() \n",
    "    if genre:\n",
    "        paises = obtener_country(genre) \n",
    "        pais_combobox['values'] = paises\n",
    "        pais_combobox.set('')"
   ]
  },
  {
   "cell_type": "code",
   "execution_count": 9,
   "id": "38a5039c-dcc9-40fe-994d-3fbc1074f12a",
   "metadata": {},
   "outputs": [],
   "source": [
    "# Creamos la ventana\n",
    "\n",
    "root = tk.Tk()\n",
    "root.title(\"Movies\")\n",
    "\n",
    "# Mostramos la aplicacion al frente de otras\n",
    "root.attributes(\"-topmost\", True)\n",
    "\n",
    "# Cambiamos el color del background\n",
    "root.config(bg=\"white\")\n",
    "\n",
    "#Asignamos un logotipo\n",
    "root.iconbitmap('pelicula.ico')\n",
    "\n",
    "# Obtener los géneros desde la tabla\n",
    "generos = opciones_genre()\n",
    "\n",
    "# Crear los menús desplegables\n",
    "gen_label = tk.Label(root, width=30, bd=1, relief=\"solid\", font=(\"Arial\", 11), text=\"Género:\")\n",
    "gen_label.grid(row=0, column=0, padx=10, pady=10)\n",
    "gen_combobox = ttk.Combobox(root, width=30, font=(\"Arial\", 10), values=generos)\n",
    "gen_combobox.set(generos[0] if generos else '')\n",
    "gen_combobox.grid(row=0, column=1, padx=10, pady=10)\n",
    "\n",
    "pais_label = tk.Label(root, width=30, bd=1, relief=\"solid\", font=(\"Arial\", 11), text=\"País:\")\n",
    "pais_label.grid(row=1, column=0, padx=10, pady=10)\n",
    "pais_combobox = ttk.Combobox(root, width=30, font=(\"Arial\", 10))\n",
    "pais_combobox.grid(row=1, column=1, padx=10, pady=10)\n",
    "\n",
    "gen_combobox.bind(\"<<ComboboxSelected>>\", actualizar_paises)\n",
    "\n",
    "# Botón para mostrar las películas\n",
    "buscar_button = tk.Button(root, bg=\"lightblue\", width=10, height=1, font=(\"Arial\", 11), text=\"Buscar\", command=mostrar_peliculas)\n",
    "buscar_button.grid(row=0, column=2, padx=10, pady=10)\n",
    "\n",
    "# Crear un Treeview para mostrar las películas\n",
    "lista_peliculas = ttk.Treeview(root, columns=(\"Name\", \"Genre\", \"Year\", \"Director\", \"Writer\", \"Country\"), show=\"headings\")\n",
    "lista_peliculas.heading(\"Name\", text=\"Name\")\n",
    "lista_peliculas.heading(\"Genre\", text=\"Genre\")\n",
    "lista_peliculas.heading(\"Year\", text=\"Year\")\n",
    "lista_peliculas.heading(\"Director\", text=\"Director\")\n",
    "lista_peliculas.heading(\"Writer\", text=\"Writer\")\n",
    "lista_peliculas.heading(\"Country\", text=\"Country\")\n",
    "\n",
    "lista_peliculas.grid(row=2, column=0, columnspan=10, padx=10, pady=10)\n",
    "\n",
    "# Ejecutar la ventana\n",
    "root.mainloop()\n"
   ]
  },
  {
   "cell_type": "code",
   "execution_count": null,
   "id": "033c30dc-cb46-4f54-a96a-adad9aed69e5",
   "metadata": {},
   "outputs": [],
   "source": []
  }
 ],
 "metadata": {
  "kernelspec": {
   "display_name": "Python 3 (ipykernel)",
   "language": "python",
   "name": "python3"
  },
  "language_info": {
   "codemirror_mode": {
    "name": "ipython",
    "version": 3
   },
   "file_extension": ".py",
   "mimetype": "text/x-python",
   "name": "python",
   "nbconvert_exporter": "python",
   "pygments_lexer": "ipython3",
   "version": "3.8.19"
  }
 },
 "nbformat": 4,
 "nbformat_minor": 5
}
